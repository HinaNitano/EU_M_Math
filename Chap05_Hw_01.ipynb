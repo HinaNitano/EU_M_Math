{
  "nbformat": 4,
  "nbformat_minor": 0,
  "metadata": {
    "colab": {
      "provenance": [],
      "authorship_tag": "ABX9TyM032ll2CaM5QfYjTEjuGkO",
      "include_colab_link": true
    },
    "kernelspec": {
      "name": "python3",
      "display_name": "Python 3"
    },
    "language_info": {
      "name": "python"
    }
  },
  "cells": [
    {
      "cell_type": "markdown",
      "metadata": {
        "id": "view-in-github",
        "colab_type": "text"
      },
      "source": [
        "<a href=\"https://colab.research.google.com/github/HinaNitano/EU_M_Math/blob/main/Chap05_Hw_01.ipynb\" target=\"_parent\"><img src=\"https://colab.research.google.com/assets/colab-badge.svg\" alt=\"Open In Colab\"/></a>"
      ]
    },
    {
      "cell_type": "code",
      "execution_count": null,
      "metadata": {
        "colab": {
          "base_uri": "https://localhost:8080/",
          "height": 36
        },
        "id": "5UuteHoOJV54",
        "outputId": "b2e2ecef-073f-49c6-ea27-9d6b332ac9c7"
      },
      "outputs": [
        {
          "output_type": "execute_result",
          "data": {
            "text/plain": [
              "'%.3f'"
            ],
            "application/vnd.google.colaboratory.intrinsic+json": {
              "type": "string"
            }
          },
          "metadata": {},
          "execution_count": 1
        }
      ],
      "source": [
        "# 以下のライブラリを使う\n",
        "import numpy as np\n",
        "import numpy.random as random\n",
        "import scipy as np\n",
        "\n",
        "# 可視化ライブラリ\n",
        "import matplotlib.pyplot as plt\n",
        "import matplotlib as mpl\n",
        "%matplotlib inline\n",
        "\n",
        "# 小数第３位まで\n",
        "%precision 3"
      ]
    },
    {
      "cell_type": "code",
      "source": [
        "sample_array = np.arange(10)\n",
        "print('sample_array:', sample_array)"
      ],
      "metadata": {
        "colab": {
          "base_uri": "https://localhost:8080/"
        },
        "id": "8lxaZonbM3o-",
        "outputId": "9fd1ae06-3ae0-4f76-e102-b2b21073afc8"
      },
      "execution_count": null,
      "outputs": [
        {
          "output_type": "stream",
          "name": "stdout",
          "text": [
            "sample_array: [0 1 2 3 4 5 6 7 8 9]\n"
          ]
        },
        {
          "output_type": "stream",
          "name": "stderr",
          "text": [
            "<ipython-input-2-dd04b9cbe345>:1: DeprecationWarning: scipy.arange is deprecated and will be removed in SciPy 2.0.0, use numpy.arange instead\n",
            "  sample_array = np.arange(10)\n"
          ]
        }
      ]
    },
    {
      "cell_type": "code",
      "source": [
        "# 元のデータ\n",
        "print(sample_array)\n",
        "\n",
        "# 前から数字を５つ取得して、sample_array_sliceに入れる\n",
        "sample_array_slice = sample_array[0:5]\n",
        "print(sample_array_slice)"
      ],
      "metadata": {
        "colab": {
          "base_uri": "https://localhost:8080/"
        },
        "id": "S-rMG6qnNIMy",
        "outputId": "9e8922b9-41a6-4740-80de-abc09f851abf"
      },
      "execution_count": null,
      "outputs": [
        {
          "output_type": "stream",
          "name": "stdout",
          "text": [
            "[0 1 2 3 4 5 6 7 8 9]\n",
            "[0 1 2 3 4]\n"
          ]
        }
      ]
    },
    {
      "cell_type": "code",
      "source": [
        "# sample_array_sliceの３文字目までは、10で置換\n",
        "sample_array_slice[0:3] = 10\n",
        "print(sample_array_slice)\n",
        "\n",
        "# スライスの変更はオリジナルリストも変更\n",
        "print(sample_array)"
      ],
      "metadata": {
        "colab": {
          "base_uri": "https://localhost:8080/"
        },
        "id": "MI9AtmZbNPo1",
        "outputId": "6eda88ee-f1e9-4709-e42e-44f74f031c8c"
      },
      "execution_count": null,
      "outputs": [
        {
          "output_type": "stream",
          "name": "stdout",
          "text": [
            "[10 10 10  3  4]\n",
            "[10 10 10  3  4  5  6  7  8  9]\n"
          ]
        }
      ]
    },
    {
      "cell_type": "code",
      "source": [
        "# copyして別のobjectを作成\n",
        "sample_array_copy = np.copy(sample_array)\n",
        "print(sample_array_copy)\n",
        "\n",
        "sample_array_copy[0:3] = 20\n",
        "print(sample_array_copy)\n",
        "\n",
        "# 元のリストは変更されてない\n",
        "print(sample_array)"
      ],
      "metadata": {
        "colab": {
          "base_uri": "https://localhost:8080/"
        },
        "id": "S59_p6O8N8ai",
        "outputId": "8a2102b2-5628-44c7-f275-a9313752f90c"
      },
      "execution_count": null,
      "outputs": [
        {
          "output_type": "stream",
          "name": "stdout",
          "text": [
            "[10 10 10  3  4  5  6  7  8  9]\n",
            "[20 20 20  3  4  5  6  7  8  9]\n",
            "[10 10 10  3  4  5  6  7  8  9]\n"
          ]
        },
        {
          "output_type": "stream",
          "name": "stderr",
          "text": [
            "<ipython-input-5-3485650d6071>:2: DeprecationWarning: scipy.copy is deprecated and will be removed in SciPy 2.0.0, use numpy.copy instead\n",
            "  sample_array_copy = np.copy(sample_array)\n"
          ]
        }
      ]
    },
    {
      "cell_type": "code",
      "source": [
        "# データの準備\n",
        "sample_names = np.array(['a', 'b', 'c', 'd', 'a'])\n",
        "random.seed(0)\n",
        "data = random.randn(5,5)\n",
        "\n",
        "print(sample_names)\n",
        "print(data)"
      ],
      "metadata": {
        "colab": {
          "base_uri": "https://localhost:8080/"
        },
        "id": "yf2o3KUKOY1F",
        "outputId": "87fe2a28-b9f7-4890-d7d0-7faf143f9c02"
      },
      "execution_count": null,
      "outputs": [
        {
          "output_type": "stream",
          "name": "stdout",
          "text": [
            "['a' 'b' 'c' 'd' 'a']\n",
            "[[ 1.764  0.4    0.979  2.241  1.868]\n",
            " [-0.977  0.95  -0.151 -0.103  0.411]\n",
            " [ 0.144  1.454  0.761  0.122  0.444]\n",
            " [ 0.334  1.494 -0.205  0.313 -0.854]\n",
            " [-2.553  0.654  0.864 -0.742  2.27 ]]\n"
          ]
        },
        {
          "output_type": "stream",
          "name": "stderr",
          "text": [
            "<ipython-input-6-d6d28e32173d>:2: DeprecationWarning: scipy.array is deprecated and will be removed in SciPy 2.0.0, use numpy.array instead\n",
            "  sample_names = np.array(['a', 'b', 'c', 'd', 'a'])\n"
          ]
        }
      ]
    },
    {
      "cell_type": "code",
      "source": [
        "sample_names == 'a'"
      ],
      "metadata": {
        "colab": {
          "base_uri": "https://localhost:8080/"
        },
        "id": "CI1Ta5P5O0lP",
        "outputId": "79072ed6-5216-4b68-97d8-278274196fc9"
      },
      "execution_count": null,
      "outputs": [
        {
          "output_type": "execute_result",
          "data": {
            "text/plain": [
              "array([ True, False, False, False,  True])"
            ]
          },
          "metadata": {},
          "execution_count": 7
        }
      ]
    },
    {
      "cell_type": "code",
      "source": [
        "data[sample_names == 'a']"
      ],
      "metadata": {
        "colab": {
          "base_uri": "https://localhost:8080/"
        },
        "id": "_zL774YfO6JY",
        "outputId": "94b4b11c-130a-4099-c4fa-653772437400"
      },
      "execution_count": null,
      "outputs": [
        {
          "output_type": "execute_result",
          "data": {
            "text/plain": [
              "array([[ 1.764,  0.4  ,  0.979,  2.241,  1.868],\n",
              "       [-2.553,  0.654,  0.864, -0.742,  2.27 ]])"
            ]
          },
          "metadata": {},
          "execution_count": 8
        }
      ]
    },
    {
      "cell_type": "code",
      "source": [
        "# 条件制御のためのプール配列を作成\n",
        "cond_data = np.array([True, True, False, False, True])\n",
        "\n",
        "# 配列 x_arrayを作成\n",
        "x_array = np.array([1,2,3,4,5])\n",
        "\n",
        "# 配列y_arrayを作成\n",
        "y_array = np.array([100, 200, 300, 400, 500])\n",
        "\n",
        "# 条件制御実施\n",
        "print(np.where(cond_data,x_array,y_array))"
      ],
      "metadata": {
        "colab": {
          "base_uri": "https://localhost:8080/"
        },
        "id": "2oJpbLgDO-be",
        "outputId": "800fe3c9-ed19-418b-b63f-93d1d32fe427"
      },
      "execution_count": null,
      "outputs": [
        {
          "output_type": "stream",
          "name": "stdout",
          "text": [
            "[  1   2 300 400   5]\n"
          ]
        },
        {
          "output_type": "stream",
          "name": "stderr",
          "text": [
            "<ipython-input-9-0c236a15ee65>:2: DeprecationWarning: scipy.array is deprecated and will be removed in SciPy 2.0.0, use numpy.array instead\n",
            "  cond_data = np.array([True, True, False, False, True])\n",
            "<ipython-input-9-0c236a15ee65>:5: DeprecationWarning: scipy.array is deprecated and will be removed in SciPy 2.0.0, use numpy.array instead\n",
            "  x_array = np.array([1,2,3,4,5])\n",
            "<ipython-input-9-0c236a15ee65>:8: DeprecationWarning: scipy.array is deprecated and will be removed in SciPy 2.0.0, use numpy.array instead\n",
            "  y_array = np.array([100, 200, 300, 400, 500])\n",
            "<ipython-input-9-0c236a15ee65>:11: DeprecationWarning: scipy.where is deprecated and will be removed in SciPy 2.0.0, use numpy.where instead\n",
            "  print(np.where(cond_data,x_array,y_array))\n"
          ]
        }
      ]
    },
    {
      "cell_type": "code",
      "source": [
        "cond_data = np.array([True, True, False, False, True])\n",
        "print(cond_data)\n",
        "\n",
        "# 重複削除\n",
        "print(np.unique(cond_data))"
      ],
      "metadata": {
        "id": "aR7aZ6siPv5s",
        "colab": {
          "base_uri": "https://localhost:8080/"
        },
        "outputId": "7c78788b-8912-4f7e-dc0a-7f04ef153b6d"
      },
      "execution_count": null,
      "outputs": [
        {
          "output_type": "stream",
          "name": "stdout",
          "text": [
            "[ True  True False False  True]\n",
            "[False  True]\n"
          ]
        },
        {
          "output_type": "stream",
          "name": "stderr",
          "text": [
            "<ipython-input-10-f969fe25896b>:1: DeprecationWarning: scipy.array is deprecated and will be removed in SciPy 2.0.0, use numpy.array instead\n",
            "  cond_data = np.array([True, True, False, False, True])\n",
            "<ipython-input-10-f969fe25896b>:5: DeprecationWarning: scipy.unique is deprecated and will be removed in SciPy 2.0.0, use numpy.unique instead\n",
            "  print(np.unique(cond_data))\n"
          ]
        }
      ]
    },
    {
      "cell_type": "code",
      "source": [
        "# ユニバーサル関数\n",
        "sample_data = np.arange(10)\n",
        "print('元のデータ:', sample_data)\n",
        "print('すべての要素の平方根:', np.sqrt(sample_data))\n",
        "print('すべての要素のネイピア指数関数:', np.exp(sample_data))"
      ],
      "metadata": {
        "colab": {
          "base_uri": "https://localhost:8080/"
        },
        "id": "f1HyPdT9TU87",
        "outputId": "95de54ed-f78d-4d96-ddc0-03f507e48059"
      },
      "execution_count": null,
      "outputs": [
        {
          "output_type": "stream",
          "name": "stdout",
          "text": [
            "元のデータ: [0 1 2 3 4 5 6 7 8 9]\n",
            "すべての要素の平方根: [0.    1.    1.414 1.732 2.    2.236 2.449 2.646 2.828 3.   ]\n",
            "すべての要素のネイピア指数関数: [1.000e+00 2.718e+00 7.389e+00 2.009e+01 5.460e+01 1.484e+02 4.034e+02\n",
            " 1.097e+03 2.981e+03 8.103e+03]\n"
          ]
        },
        {
          "output_type": "stream",
          "name": "stderr",
          "text": [
            "<ipython-input-11-47b94205e523>:2: DeprecationWarning: scipy.arange is deprecated and will be removed in SciPy 2.0.0, use numpy.arange instead\n",
            "  sample_data = np.arange(10)\n",
            "<ipython-input-11-47b94205e523>:4: DeprecationWarning: scipy.sqrt is deprecated and will be removed in SciPy 2.0.0, use numpy.lib.scimath.sqrt instead\n",
            "  print('すべての要素の平方根:', np.sqrt(sample_data))\n",
            "<ipython-input-11-47b94205e523>:5: DeprecationWarning: scipy.exp is deprecated and will be removed in SciPy 2.0.0, use numpy.exp instead\n",
            "  print('すべての要素のネイピア指数関数:', np.exp(sample_data))\n"
          ]
        }
      ]
    },
    {
      "cell_type": "code",
      "source": [
        "# arangeで9つの要素を持つ配列を生成。reshapeで3行3列の行列に再形成\n",
        "sample_multi_array_data1 = np.arange(9).reshape(3,3)\n",
        "\n",
        "print(sample_multi_array_data1)\n",
        "\n",
        "print('最小値:', sample_multi_array_data1.min())\n",
        "print('最大値:', sample_multi_array_data1.max())\n",
        "print('平均:', sample_multi_array_data1.mean())\n",
        "print('合計:', sample_multi_array_data1.sum())\n",
        "\n",
        "# 行列を指定して合計値を求める\n",
        "print('行の合計:', sample_multi_array_data1.sum(axis=1))\n",
        "print('列の合計:', sample_multi_array_data1.sum(axis=0))"
      ],
      "metadata": {
        "colab": {
          "base_uri": "https://localhost:8080/"
        },
        "id": "gJHMUquZT2Of",
        "outputId": "3c86f778-1ae9-41ae-b388-37ed1c33d9b0"
      },
      "execution_count": null,
      "outputs": [
        {
          "output_type": "stream",
          "name": "stdout",
          "text": [
            "[[0 1 2]\n",
            " [3 4 5]\n",
            " [6 7 8]]\n",
            "最小値: 0\n",
            "最大値: 8\n",
            "平均: 4.0\n",
            "合計: 36\n",
            "行の合計: [ 3 12 21]\n",
            "列の合計: [ 9 12 15]\n"
          ]
        },
        {
          "output_type": "stream",
          "name": "stderr",
          "text": [
            "<ipython-input-14-961d31f9161a>:2: DeprecationWarning: scipy.arange is deprecated and will be removed in SciPy 2.0.0, use numpy.arange instead\n",
            "  sample_multi_array_data1 = np.arange(9).reshape(3,3)\n"
          ]
        }
      ]
    },
    {
      "cell_type": "code",
      "source": [
        "# 真偽値の配列関数\n",
        "cond_data = np.array([True, True, False, False, True])\n",
        "\n",
        "print('Trueがすくなくとも1つあるかどうか:', cond_data.any())\n",
        "print('すべてTrueかどうか:', cond_data.all())"
      ],
      "metadata": {
        "colab": {
          "base_uri": "https://localhost:8080/"
        },
        "id": "pQ_bOThZU67t",
        "outputId": "06c6aa1a-26df-4b2c-ff57-fca0d673692e"
      },
      "execution_count": null,
      "outputs": [
        {
          "output_type": "stream",
          "name": "stdout",
          "text": [
            "Trueがすくなくとも1つあるかどうか: True\n",
            "すべてTrueかどうか: False\n"
          ]
        },
        {
          "output_type": "stream",
          "name": "stderr",
          "text": [
            "<ipython-input-13-312dae2604d9>:2: DeprecationWarning: scipy.array is deprecated and will be removed in SciPy 2.0.0, use numpy.array instead\n",
            "  cond_data = np.array([True, True, False, False, True])\n"
          ]
        }
      ]
    },
    {
      "cell_type": "code",
      "source": [
        "sample_multi_array_data1 = np.arange(9).reshape(3,3)\n",
        "print(sample_multi_array_data1)\n",
        "print('5より大きい数字がいくつあるか:',(sample_multi_array_data1>5).sum())"
      ],
      "metadata": {
        "colab": {
          "base_uri": "https://localhost:8080/"
        },
        "id": "2b7W1ReiViZv",
        "outputId": "671c4757-843e-433d-9ea1-f72de6fbf36e"
      },
      "execution_count": null,
      "outputs": [
        {
          "output_type": "stream",
          "name": "stdout",
          "text": [
            "[[0 1 2]\n",
            " [3 4 5]\n",
            " [6 7 8]]\n",
            "5より大きい数字がいくつあるか: 3\n"
          ]
        },
        {
          "output_type": "stream",
          "name": "stderr",
          "text": [
            "<ipython-input-16-805eaabe5472>:1: DeprecationWarning: scipy.arange is deprecated and will be removed in SciPy 2.0.0, use numpy.arange instead\n",
            "  sample_multi_array_data1 = np.arange(9).reshape(3,3)\n"
          ]
        }
      ]
    },
    {
      "cell_type": "code",
      "source": [
        "# 行列計算\n",
        "sample_multi_array_data1 = np.arange(9).reshape(3,3)\n",
        "print(sample_multi_array_data1)\n",
        "\n",
        "print('対角成分:', np.diag(sample_multi_array_data1))\n",
        "print('対角成分の和:', np.trace(sample_multi_array_data1))"
      ],
      "metadata": {
        "colab": {
          "base_uri": "https://localhost:8080/"
        },
        "id": "SxKTSNZrWO8b",
        "outputId": "56e6c0d9-2236-4ca9-f92a-79c56cd0e3f5"
      },
      "execution_count": null,
      "outputs": [
        {
          "output_type": "stream",
          "name": "stdout",
          "text": [
            "[[0 1 2]\n",
            " [3 4 5]\n",
            " [6 7 8]]\n",
            "対角成分: [0 4 8]\n",
            "対角成分の和: 12\n"
          ]
        },
        {
          "output_type": "stream",
          "name": "stderr",
          "text": [
            "<ipython-input-17-ac85de55aba1>:2: DeprecationWarning: scipy.arange is deprecated and will be removed in SciPy 2.0.0, use numpy.arange instead\n",
            "  sample_multi_array_data1 = np.arange(9).reshape(3,3)\n",
            "<ipython-input-17-ac85de55aba1>:5: DeprecationWarning: scipy.diag is deprecated and will be removed in SciPy 2.0.0, use numpy.diag instead\n",
            "  print('対角成分:', np.diag(sample_multi_array_data1))\n",
            "<ipython-input-17-ac85de55aba1>:6: DeprecationWarning: scipy.trace is deprecated and will be removed in SciPy 2.0.0, use numpy.trace instead\n",
            "  print('対角成分の和:', np.trace(sample_multi_array_data1))\n"
          ]
        }
      ]
    },
    {
      "cell_type": "code",
      "source": [
        "# データの準備\n",
        "sample_array = np.arange(10)\n",
        "sample_array"
      ],
      "metadata": {
        "colab": {
          "base_uri": "https://localhost:8080/"
        },
        "id": "dAVQ9xs3Wre-",
        "outputId": "b2c44f09-9baa-4d2e-965a-d004f4a0779b"
      },
      "execution_count": null,
      "outputs": [
        {
          "output_type": "stream",
          "name": "stderr",
          "text": [
            "<ipython-input-18-d1ec07251158>:2: DeprecationWarning: scipy.arange is deprecated and will be removed in SciPy 2.0.0, use numpy.arange instead\n",
            "  sample_array = np.arange(10)\n"
          ]
        },
        {
          "output_type": "execute_result",
          "data": {
            "text/plain": [
              "array([0, 1, 2, 3, 4, 5, 6, 7, 8, 9])"
            ]
          },
          "metadata": {},
          "execution_count": 18
        }
      ]
    },
    {
      "cell_type": "code",
      "source": [
        "# 再形成\n",
        "sample_array2 = sample_array.reshape(2,5)\n",
        "sample_array2"
      ],
      "metadata": {
        "colab": {
          "base_uri": "https://localhost:8080/"
        },
        "id": "d7f29oOzYYJh",
        "outputId": "5c7b1baf-f25b-4ce2-9d03-fc7f3ddcbd97"
      },
      "execution_count": null,
      "outputs": [
        {
          "output_type": "execute_result",
          "data": {
            "text/plain": [
              "array([[0, 1, 2, 3, 4],\n",
              "       [5, 6, 7, 8, 9]])"
            ]
          },
          "metadata": {},
          "execution_count": 19
        }
      ]
    },
    {
      "cell_type": "code",
      "source": [
        "sample_array2.reshape(5,2)"
      ],
      "metadata": {
        "colab": {
          "base_uri": "https://localhost:8080/"
        },
        "id": "_nC0ZcVoYjz8",
        "outputId": "c1394a2a-601c-4fe3-e721-7cf412bc1d9f"
      },
      "execution_count": null,
      "outputs": [
        {
          "output_type": "execute_result",
          "data": {
            "text/plain": [
              "array([[0, 1],\n",
              "       [2, 3],\n",
              "       [4, 5],\n",
              "       [6, 7],\n",
              "       [8, 9]])"
            ]
          },
          "metadata": {},
          "execution_count": 20
        }
      ]
    },
    {
      "cell_type": "code",
      "source": [
        "# データの準備\n",
        "sample_array3 = np.array([[1,2,3],[4,5,6]])\n",
        "sample_array4 = np.array([[7,8,9],[10,11,12]])\n",
        "print(sample_array3)\n",
        "print(sample_array4)\n",
        "\n",
        "# 行方向に結合。パラメータのaxisに0を指定\n",
        "np.concatenate([sample_array3, sample_array4],axis=0)"
      ],
      "metadata": {
        "colab": {
          "base_uri": "https://localhost:8080/"
        },
        "id": "9I2e0UYSYqeX",
        "outputId": "9040680a-bae3-4e51-b41a-2613068d84bd"
      },
      "execution_count": null,
      "outputs": [
        {
          "output_type": "stream",
          "name": "stdout",
          "text": [
            "[[1 2 3]\n",
            " [4 5 6]]\n",
            "[[ 7  8  9]\n",
            " [10 11 12]]\n"
          ]
        },
        {
          "output_type": "stream",
          "name": "stderr",
          "text": [
            "<ipython-input-22-6a7aac7809ac>:2: DeprecationWarning: scipy.array is deprecated and will be removed in SciPy 2.0.0, use numpy.array instead\n",
            "  sample_array3 = np.array([[1,2,3],[4,5,6]])\n",
            "<ipython-input-22-6a7aac7809ac>:3: DeprecationWarning: scipy.array is deprecated and will be removed in SciPy 2.0.0, use numpy.array instead\n",
            "  sample_array4 = np.array([[7,8,9],[10,11,12]])\n",
            "<ipython-input-22-6a7aac7809ac>:8: DeprecationWarning: scipy.concatenate is deprecated and will be removed in SciPy 2.0.0, use numpy.concatenate instead\n",
            "  np.concatenate([sample_array3, sample_array4],axis=0)\n"
          ]
        },
        {
          "output_type": "execute_result",
          "data": {
            "text/plain": [
              "array([[ 1,  2,  3],\n",
              "       [ 4,  5,  6],\n",
              "       [ 7,  8,  9],\n",
              "       [10, 11, 12]])"
            ]
          },
          "metadata": {},
          "execution_count": 22
        }
      ]
    },
    {
      "cell_type": "code",
      "source": [
        "# vstackを使った行方向結合の方法\n",
        "np.vstack((sample_array3, sample_array4))"
      ],
      "metadata": {
        "colab": {
          "base_uri": "https://localhost:8080/"
        },
        "id": "5JVLwHQeZV5e",
        "outputId": "aa3246b7-7ccc-4b81-9c46-c027f942cc17"
      },
      "execution_count": null,
      "outputs": [
        {
          "output_type": "stream",
          "name": "stderr",
          "text": [
            "<ipython-input-23-01761a68b9ef>:2: DeprecationWarning: scipy.vstack is deprecated and will be removed in SciPy 2.0.0, use numpy.vstack instead\n",
            "  np.vstack((sample_array3, sample_array4))\n"
          ]
        },
        {
          "output_type": "execute_result",
          "data": {
            "text/plain": [
              "array([[ 1,  2,  3],\n",
              "       [ 4,  5,  6],\n",
              "       [ 7,  8,  9],\n",
              "       [10, 11, 12]])"
            ]
          },
          "metadata": {},
          "execution_count": 23
        }
      ]
    },
    {
      "cell_type": "code",
      "source": [
        "# 列方向に結合\n",
        "np.concatenate([sample_array3, sample_array4],axis=1)"
      ],
      "metadata": {
        "colab": {
          "base_uri": "https://localhost:8080/"
        },
        "id": "MYLc7diUZrbP",
        "outputId": "3dc5b763-c117-4a42-a340-020eb0d9e951"
      },
      "execution_count": null,
      "outputs": [
        {
          "output_type": "stream",
          "name": "stderr",
          "text": [
            "<ipython-input-24-68a9d54ae9aa>:2: DeprecationWarning: scipy.concatenate is deprecated and will be removed in SciPy 2.0.0, use numpy.concatenate instead\n",
            "  np.concatenate([sample_array3, sample_array4],axis=1)\n"
          ]
        },
        {
          "output_type": "execute_result",
          "data": {
            "text/plain": [
              "array([[ 1,  2,  3,  7,  8,  9],\n",
              "       [ 4,  5,  6, 10, 11, 12]])"
            ]
          },
          "metadata": {},
          "execution_count": 24
        }
      ]
    },
    {
      "cell_type": "code",
      "source": [
        "# 列方向結合の他の方法\n",
        "np.hstack((sample_array3, sample_array4))"
      ],
      "metadata": {
        "colab": {
          "base_uri": "https://localhost:8080/"
        },
        "id": "RJjPSQwJZ4fB",
        "outputId": "b198a2fb-8e9e-4c4d-bd24-efa868263e1d"
      },
      "execution_count": null,
      "outputs": [
        {
          "output_type": "stream",
          "name": "stderr",
          "text": [
            "<ipython-input-25-46670b4d0d54>:2: DeprecationWarning: scipy.hstack is deprecated and will be removed in SciPy 2.0.0, use numpy.hstack instead\n",
            "  np.hstack((sample_array3, sample_array4))\n"
          ]
        },
        {
          "output_type": "execute_result",
          "data": {
            "text/plain": [
              "array([[ 1,  2,  3,  7,  8,  9],\n",
              "       [ 4,  5,  6, 10, 11, 12]])"
            ]
          },
          "metadata": {},
          "execution_count": 25
        }
      ]
    },
    {
      "cell_type": "code",
      "source": [
        "# データの用意\n",
        "sample_array3 = np.array([[1,2,3],[4,5,6]])\n",
        "sample_array4 = np.array([[7,8,9],[10,11,12]])\n",
        "sample_array_vstack = np.vstack((sample_array3, sample_array4))\n",
        "sample_array_vstack"
      ],
      "metadata": {
        "colab": {
          "base_uri": "https://localhost:8080/"
        },
        "id": "z3GqUUwTaCe9",
        "outputId": "5a7def53-65af-48e1-a1e3-14696e5a1d32"
      },
      "execution_count": null,
      "outputs": [
        {
          "output_type": "stream",
          "name": "stderr",
          "text": [
            "<ipython-input-26-31bc50133767>:2: DeprecationWarning: scipy.array is deprecated and will be removed in SciPy 2.0.0, use numpy.array instead\n",
            "  sample_array3 = np.array([[1,2,3],[4,5,6]])\n",
            "<ipython-input-26-31bc50133767>:3: DeprecationWarning: scipy.array is deprecated and will be removed in SciPy 2.0.0, use numpy.array instead\n",
            "  sample_array4 = np.array([[7,8,9],[10,11,12]])\n",
            "<ipython-input-26-31bc50133767>:4: DeprecationWarning: scipy.vstack is deprecated and will be removed in SciPy 2.0.0, use numpy.vstack instead\n",
            "  sample_array_vstack = np.vstack((sample_array3, sample_array4))\n"
          ]
        },
        {
          "output_type": "execute_result",
          "data": {
            "text/plain": [
              "array([[ 1,  2,  3],\n",
              "       [ 4,  5,  6],\n",
              "       [ 7,  8,  9],\n",
              "       [10, 11, 12]])"
            ]
          },
          "metadata": {},
          "execution_count": 26
        }
      ]
    },
    {
      "cell_type": "code",
      "source": [
        "first,second,third = np.split(sample_array_vstack,[1,3])\n",
        "print(first)"
      ],
      "metadata": {
        "colab": {
          "base_uri": "https://localhost:8080/"
        },
        "id": "U0uC5Cz4adGk",
        "outputId": "bcd06068-10f9-4a2f-f4f8-bc1d241c2828"
      },
      "execution_count": null,
      "outputs": [
        {
          "output_type": "stream",
          "name": "stdout",
          "text": [
            "[[1 2 3]]\n"
          ]
        },
        {
          "output_type": "stream",
          "name": "stderr",
          "text": [
            "<ipython-input-27-d3188fc1a1c4>:1: DeprecationWarning: scipy.split is deprecated and will be removed in SciPy 2.0.0, use numpy.split instead\n",
            "  first,second,third = np.split(sample_array_vstack,[1,3])\n"
          ]
        }
      ]
    },
    {
      "cell_type": "code",
      "source": [
        "print(second)"
      ],
      "metadata": {
        "colab": {
          "base_uri": "https://localhost:8080/"
        },
        "id": "IOcrQiZhav83",
        "outputId": "bb88f947-a4e7-45ca-b57a-df7092d47431"
      },
      "execution_count": null,
      "outputs": [
        {
          "output_type": "stream",
          "name": "stdout",
          "text": [
            "[[4 5 6]\n",
            " [7 8 9]]\n"
          ]
        }
      ]
    },
    {
      "cell_type": "code",
      "source": [
        "second[0]"
      ],
      "metadata": {
        "colab": {
          "base_uri": "https://localhost:8080/"
        },
        "id": "l0buK9Mia0ku",
        "outputId": "55a4e5c7-ef4a-4a5d-ad51-b8afd89bc326"
      },
      "execution_count": null,
      "outputs": [
        {
          "output_type": "execute_result",
          "data": {
            "text/plain": [
              "array([4, 5, 6])"
            ]
          },
          "metadata": {},
          "execution_count": 29
        }
      ]
    },
    {
      "cell_type": "code",
      "source": [
        "print(third)"
      ],
      "metadata": {
        "colab": {
          "base_uri": "https://localhost:8080/"
        },
        "id": "z6jxp7doa3g-",
        "outputId": "c088efca-42dd-43d9-8569-1c4a90a5e855"
      },
      "execution_count": null,
      "outputs": [
        {
          "output_type": "stream",
          "name": "stdout",
          "text": [
            "[[10 11 12]]\n"
          ]
        }
      ]
    },
    {
      "cell_type": "code",
      "source": [
        "# データの用意\n",
        "sample_array5 = np.array([[13,14,15],[16,17,18],[19,20,21]])\n",
        "sample_array_vstack2 = np.vstack((sample_array3, sample_array4, sample_array5))\n",
        "\n",
        "print(sample_array_vstack2)"
      ],
      "metadata": {
        "colab": {
          "base_uri": "https://localhost:8080/"
        },
        "id": "vh-xfb7Ya6GR",
        "outputId": "bbdf8e70-833c-46b3-d580-5baba0410070"
      },
      "execution_count": null,
      "outputs": [
        {
          "output_type": "stream",
          "name": "stdout",
          "text": [
            "[[ 1  2  3]\n",
            " [ 4  5  6]\n",
            " [ 7  8  9]\n",
            " [10 11 12]\n",
            " [13 14 15]\n",
            " [16 17 18]\n",
            " [19 20 21]]\n"
          ]
        },
        {
          "output_type": "stream",
          "name": "stderr",
          "text": [
            "<ipython-input-31-ba16806e7fdf>:2: DeprecationWarning: scipy.array is deprecated and will be removed in SciPy 2.0.0, use numpy.array instead\n",
            "  sample_array5 = np.array([[13,14,15],[16,17,18],[19,20,21]])\n",
            "<ipython-input-31-ba16806e7fdf>:3: DeprecationWarning: scipy.vstack is deprecated and will be removed in SciPy 2.0.0, use numpy.vstack instead\n",
            "  sample_array_vstack2 = np.vstack((sample_array3, sample_array4, sample_array5))\n"
          ]
        }
      ]
    },
    {
      "cell_type": "code",
      "source": [
        "first,second,third,fourth = np.split(sample_array_vstack2,[2,3,5])\n",
        "print('・1つ目:\\n', first,'\\n')\n",
        "print('・2つ目:\\n', second,'\\n')\n",
        "print('・3つ目:\\n', third,'\\n')\n",
        "print('・4つ目:\\n', fourth,'\\n')"
      ],
      "metadata": {
        "colab": {
          "base_uri": "https://localhost:8080/"
        },
        "id": "OW4q3mPZbUh_",
        "outputId": "f57a9c28-123a-4215-ad40-490d6d3ac5f2"
      },
      "execution_count": null,
      "outputs": [
        {
          "output_type": "stream",
          "name": "stdout",
          "text": [
            "・1つ目:\n",
            " [[1 2 3]\n",
            " [4 5 6]] \n",
            "\n",
            "・2つ目:\n",
            " [[7 8 9]] \n",
            "\n",
            "・3つ目:\n",
            " [[10 11 12]\n",
            " [13 14 15]] \n",
            "\n",
            "・4つ目:\n",
            " [[16 17 18]\n",
            " [19 20 21]] \n",
            "\n"
          ]
        },
        {
          "output_type": "stream",
          "name": "stderr",
          "text": [
            "<ipython-input-32-b36db6492705>:1: DeprecationWarning: scipy.split is deprecated and will be removed in SciPy 2.0.0, use numpy.split instead\n",
            "  first,second,third,fourth = np.split(sample_array_vstack2,[2,3,5])\n"
          ]
        }
      ]
    },
    {
      "cell_type": "code",
      "source": [
        "first[0]"
      ],
      "metadata": {
        "colab": {
          "base_uri": "https://localhost:8080/"
        },
        "id": "LJNnjxojb4Nm",
        "outputId": "8129d232-0de4-428c-e26a-da6faef4d84b"
      },
      "execution_count": null,
      "outputs": [
        {
          "output_type": "execute_result",
          "data": {
            "text/plain": [
              "array([1, 2, 3])"
            ]
          },
          "metadata": {},
          "execution_count": 33
        }
      ]
    },
    {
      "cell_type": "code",
      "source": [
        "first[1]"
      ],
      "metadata": {
        "colab": {
          "base_uri": "https://localhost:8080/"
        },
        "id": "Go0DG5-ib9gl",
        "outputId": "cc4e1987-da49-476b-947e-1f76d22ce7ac"
      },
      "execution_count": null,
      "outputs": [
        {
          "output_type": "execute_result",
          "data": {
            "text/plain": [
              "array([4, 5, 6])"
            ]
          },
          "metadata": {},
          "execution_count": 34
        }
      ]
    },
    {
      "cell_type": "code",
      "source": [
        "# repeatを使うと、各要素が指定した回数だけ繰り返されて生成される\n",
        "first.repeat(5)"
      ],
      "metadata": {
        "colab": {
          "base_uri": "https://localhost:8080/"
        },
        "id": "z6k1do7Bb_Fv",
        "outputId": "53690e6d-4784-4e88-b9fe-c387ce64d5ee"
      },
      "execution_count": null,
      "outputs": [
        {
          "output_type": "execute_result",
          "data": {
            "text/plain": [
              "array([1, 1, 1, 1, 1, 2, 2, 2, 2, 2, 3, 3, 3, 3, 3, 4, 4, 4, 4, 4, 5, 5,\n",
              "       5, 5, 5, 6, 6, 6, 6, 6])"
            ]
          },
          "metadata": {},
          "execution_count": 35
        }
      ]
    },
    {
      "cell_type": "code",
      "source": [
        "sample_array = np.arange(10)\n",
        "print(sample_array)"
      ],
      "metadata": {
        "colab": {
          "base_uri": "https://localhost:8080/"
        },
        "id": "evzNNgKUcNjl",
        "outputId": "27a4aff1-5c3f-4eb9-bd11-c56c5cc52911"
      },
      "execution_count": null,
      "outputs": [
        {
          "output_type": "stream",
          "name": "stdout",
          "text": [
            "[0 1 2 3 4 5 6 7 8 9]\n"
          ]
        },
        {
          "output_type": "stream",
          "name": "stderr",
          "text": [
            "<ipython-input-36-572f1d4a6026>:1: DeprecationWarning: scipy.arange is deprecated and will be removed in SciPy 2.0.0, use numpy.arange instead\n",
            "  sample_array = np.arange(10)\n"
          ]
        }
      ]
    },
    {
      "cell_type": "code",
      "source": [
        "sample_array + 3"
      ],
      "metadata": {
        "id": "5jnttOSEcTyz",
        "outputId": "f6790eb7-b358-4267-d829-1de5f182e80b",
        "colab": {
          "base_uri": "https://localhost:8080/"
        }
      },
      "execution_count": null,
      "outputs": [
        {
          "output_type": "execute_result",
          "data": {
            "text/plain": [
              "array([ 3,  4,  5,  6,  7,  8,  9, 10, 11, 12])"
            ]
          },
          "metadata": {},
          "execution_count": 37
        }
      ]
    }
  ]
}