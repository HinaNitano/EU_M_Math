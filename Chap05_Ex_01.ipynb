{
  "nbformat": 4,
  "nbformat_minor": 0,
  "metadata": {
    "colab": {
      "provenance": [],
      "authorship_tag": "ABX9TyO7ET+C7R0DgaG3tg3YbpC9",
      "include_colab_link": true
    },
    "kernelspec": {
      "name": "python3",
      "display_name": "Python 3"
    },
    "language_info": {
      "name": "python"
    }
  },
  "cells": [
    {
      "cell_type": "markdown",
      "metadata": {
        "id": "view-in-github",
        "colab_type": "text"
      },
      "source": [
        "<a href=\"https://colab.research.google.com/github/HinaNitano/EU_M_Math/blob/main/Chap05_Ex_01.ipynb\" target=\"_parent\"><img src=\"https://colab.research.google.com/assets/colab-badge.svg\" alt=\"Open In Colab\"/></a>"
      ]
    },
    {
      "cell_type": "code",
      "execution_count": null,
      "metadata": {
        "id": "kl04DMXLP5lm"
      },
      "outputs": [],
      "source": [
        "import numpy as np\n",
        "import numpy.random as random"
      ]
    },
    {
      "cell_type": "code",
      "source": [
        "# データの準備\n",
        "sample_names = np.array(['a', 'b', 'c', 'd', 'a'])\n",
        "random.seed(0)\n",
        "data = random.randn(5,5)\n",
        "\n",
        "print(sample_names)\n",
        "print(data)"
      ],
      "metadata": {
        "colab": {
          "base_uri": "https://localhost:8080/"
        },
        "id": "f_6t5leeQY0O",
        "outputId": "f4384dfa-0be7-4f21-fc4d-8df93c5f0ffb"
      },
      "execution_count": null,
      "outputs": [
        {
          "output_type": "stream",
          "name": "stdout",
          "text": [
            "['a' 'b' 'c' 'd' 'a']\n",
            "[[ 1.76405235  0.40015721  0.97873798  2.2408932   1.86755799]\n",
            " [-0.97727788  0.95008842 -0.15135721 -0.10321885  0.4105985 ]\n",
            " [ 0.14404357  1.45427351  0.76103773  0.12167502  0.44386323]\n",
            " [ 0.33367433  1.49407907 -0.20515826  0.3130677  -0.85409574]\n",
            " [-2.55298982  0.6536186   0.8644362  -0.74216502  2.26975462]]\n"
          ]
        }
      ]
    }
  ]
}