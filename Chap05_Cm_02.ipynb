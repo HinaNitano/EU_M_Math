{
  "nbformat": 4,
  "nbformat_minor": 0,
  "metadata": {
    "colab": {
      "provenance": [],
      "authorship_tag": "ABX9TyMajYnzgWSEYfS1vTzaOgyP",
      "include_colab_link": true
    },
    "kernelspec": {
      "name": "python3",
      "display_name": "Python 3"
    },
    "language_info": {
      "name": "python"
    }
  },
  "cells": [
    {
      "cell_type": "markdown",
      "metadata": {
        "id": "view-in-github",
        "colab_type": "text"
      },
      "source": [
        "<a href=\"https://colab.research.google.com/github/HinaNitano/EU_M_Math/blob/main/Chap05_Cm_02.ipynb\" target=\"_parent\"><img src=\"https://colab.research.google.com/assets/colab-badge.svg\" alt=\"Open In Colab\"/></a>"
      ]
    },
    {
      "cell_type": "code",
      "execution_count": null,
      "metadata": {
        "colab": {
          "base_uri": "https://localhost:8080/",
          "height": 36
        },
        "id": "1O4STDzWPKZ2",
        "outputId": "8b019c79-dfc4-4f89-f4b9-a44068d82ee1"
      },
      "outputs": [
        {
          "output_type": "execute_result",
          "data": {
            "text/plain": [
              "'%.3f'"
            ],
            "application/vnd.google.colaboratory.intrinsic+json": {
              "type": "string"
            }
          },
          "metadata": {},
          "execution_count": 1
        }
      ],
      "source": [
        "import numpy as np\n",
        "import scipy as sp\n",
        "%precision 3"
      ]
    },
    {
      "cell_type": "code",
      "source": [
        "from scipy import integrate\n",
        "import math"
      ],
      "metadata": {
        "id": "9CL0HAUiPhHX"
      },
      "execution_count": null,
      "outputs": []
    },
    {
      "cell_type": "code",
      "source": [
        "def integrand(y, x):\n",
        "    return 1 / (np.sqrt(x + y) * (1 + x + y)**2)"
      ],
      "metadata": {
        "id": "7XhCqTQzPkuO"
      },
      "execution_count": null,
      "outputs": []
    },
    {
      "cell_type": "code",
      "source": [
        "x_lower = 0\n",
        "x_upper = 1\n",
        "\n",
        "def y_lower(x):\n",
        "    return 0\n",
        "\n",
        "def y_upper(x):\n",
        "    return 1 - x"
      ],
      "metadata": {
        "id": "jslBmY7dSXzo"
      },
      "execution_count": null,
      "outputs": []
    },
    {
      "cell_type": "code",
      "source": [
        "result, error = integrate.dblquad(integrand, x_lower, x_upper, y_lower, y_upper)\n",
        "\n",
        "print(f\"The result of the double integral is: {result}\")\n",
        "print(f\"The estimated error is: {error}\")"
      ],
      "metadata": {
        "colab": {
          "base_uri": "https://localhost:8080/"
        },
        "id": "vluSFzjYShMF",
        "outputId": "b43edd52-14a9-4c75-e229-0edf1e64c9e3"
      },
      "execution_count": null,
      "outputs": [
        {
          "output_type": "stream",
          "name": "stdout",
          "text": [
            "The result of the double integral is: 0.28539816339745094\n",
            "The estimated error is: 1.5065093091811148e-08\n"
          ]
        }
      ]
    }
  ]
}