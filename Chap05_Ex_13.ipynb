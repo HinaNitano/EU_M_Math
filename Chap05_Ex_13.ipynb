{
  "nbformat": 4,
  "nbformat_minor": 0,
  "metadata": {
    "colab": {
      "provenance": [],
      "authorship_tag": "ABX9TyMTmN5VVT85qFmOVz2k3GQo",
      "include_colab_link": true
    },
    "kernelspec": {
      "name": "python3",
      "display_name": "Python 3"
    },
    "language_info": {
      "name": "python"
    }
  },
  "cells": [
    {
      "cell_type": "markdown",
      "metadata": {
        "id": "view-in-github",
        "colab_type": "text"
      },
      "source": [
        "<a href=\"https://colab.research.google.com/github/HinaNitano/EU_M_Math/blob/main/Chap05_Ex_13.ipynb\" target=\"_parent\"><img src=\"https://colab.research.google.com/assets/colab-badge.svg\" alt=\"Open In Colab\"/></a>"
      ]
    },
    {
      "cell_type": "code",
      "execution_count": null,
      "metadata": {
        "id": "VBr_Ztana3td"
      },
      "outputs": [],
      "source": [
        "import numpy as np\n",
        "import scipy as sp"
      ]
    },
    {
      "cell_type": "code",
      "source": [
        "B = np.array([[1,2,3],[4,5,6],[7,8,9],[10,11,12]])\n",
        "\n",
        "# 特異値分解の関数linalg.svd\n",
        "U, s, Vs = sp.linalg.svd(B)\n",
        "m, n = B.shape\n",
        "\n",
        "S = sp.linalg.diagsvd(s,m,n)\n",
        "\n",
        "print('U.S.V* = \\n', U@S@Vs)"
      ],
      "metadata": {
        "colab": {
          "base_uri": "https://localhost:8080/"
        },
        "id": "8G1USBtWbJMs",
        "outputId": "1d3dc71f-9551-4e1d-ea41-027ee516a0fd"
      },
      "execution_count": null,
      "outputs": [
        {
          "output_type": "stream",
          "name": "stdout",
          "text": [
            "U.S.V* = \n",
            " [[ 1.  2.  3.]\n",
            " [ 4.  5.  6.]\n",
            " [ 7.  8.  9.]\n",
            " [10. 11. 12.]]\n"
          ]
        }
      ]
    }
  ]
}