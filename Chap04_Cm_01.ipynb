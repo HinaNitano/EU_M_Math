{
  "nbformat": 4,
  "nbformat_minor": 0,
  "metadata": {
    "colab": {
      "provenance": [],
      "authorship_tag": "ABX9TyOriWHigDzpXdGBex1BMKwX",
      "include_colab_link": true
    },
    "kernelspec": {
      "name": "python3",
      "display_name": "Python 3"
    },
    "language_info": {
      "name": "python"
    }
  },
  "cells": [
    {
      "cell_type": "markdown",
      "metadata": {
        "id": "view-in-github",
        "colab_type": "text"
      },
      "source": [
        "<a href=\"https://colab.research.google.com/github/HinaNitano/EU_M_Math/blob/main/Chap04_Cm_01.ipynb\" target=\"_parent\"><img src=\"https://colab.research.google.com/assets/colab-badge.svg\" alt=\"Open In Colab\"/></a>"
      ]
    },
    {
      "cell_type": "code",
      "execution_count": 1,
      "metadata": {
        "id": "-ZwFM5HfEMbf"
      },
      "outputs": [],
      "source": [
        "import numpy as np\n",
        "import scipy as sp\n",
        "import pandas as pd\n",
        "\n",
        "import requests\n",
        "import zipfile\n",
        "from io import StringIO\n",
        "import io"
      ]
    },
    {
      "cell_type": "code",
      "source": [
        "zip_file_url = 'https://archive.ics.uci.edu/ml/machine-learning-databases/00356/student.zip'\n",
        "\n",
        "r = requests.get(zip_file_url, stream=True)\n",
        "z = zipfile.ZipFile(io.BytesIO(r.content))\n",
        "z.extractall()\n",
        "\n",
        "# 数学データを取り込む\n",
        "student_data_math = pd.read_csv('student-mat.csv', sep=';')\n",
        "\n",
        "# ポルトガルのデータを読み込む\n",
        "student_data_por = pd.read_csv('student-por.csv', sep=';')\n",
        "\n",
        "# マージする\n",
        "student_data_merge = pd.merge(student_data_math, student_data_por,\n",
        "                              on=['school', 'sex', 'age', 'address', 'famsize', 'Pstatus', 'Medu',\n",
        "                                  'Fedu', 'Mjob', 'Fjob', 'reason', 'nursery', 'internet'],\n",
        "                              suffixes=('_math','_por'))\n",
        "# 欠席数のp値\n",
        "from scipy import stats\n",
        "t, p_absences = stats.ttest_rel(student_data_merge.absences_math, student_data_merge.absences_por)\n",
        "print('欠席数のp値 = ',p_absences)"
      ],
      "metadata": {
        "colab": {
          "base_uri": "https://localhost:8080/"
        },
        "id": "eM1Bb0XFEnTr",
        "outputId": "6320334d-e38b-476e-884d-96b49f3c8f42"
      },
      "execution_count": 5,
      "outputs": [
        {
          "output_type": "stream",
          "name": "stdout",
          "text": [
            "欠席数のp値 =  2.3441656888384195e-06\n"
          ]
        }
      ]
    },
    {
      "cell_type": "markdown",
      "source": [
        "数学の欠席数とポルトガル語の欠席数には差がある"
      ],
      "metadata": {
        "id": "WN01uqcRIO1X"
      }
    },
    {
      "cell_type": "code",
      "source": [
        "# 勉強時間のp値\n",
        "from scipy import stats\n",
        "t, p_studytime= stats.ttest_rel(student_data_merge.studytime_math, student_data_merge.studytime_por)\n",
        "print('欠席数のp値 = ',p_studytime)"
      ],
      "metadata": {
        "colab": {
          "base_uri": "https://localhost:8080/"
        },
        "id": "hFly3aFdFmNz",
        "outputId": "61bb5e02-77a0-4c93-c7e0-95b9938cb61a"
      },
      "execution_count": 6,
      "outputs": [
        {
          "output_type": "stream",
          "name": "stdout",
          "text": [
            "欠席数のp値 =  0.5643842756976525\n"
          ]
        }
      ]
    },
    {
      "cell_type": "markdown",
      "source": [
        "数学の勉強時間とポルトガル語の勉強時間には差がない"
      ],
      "metadata": {
        "id": "27P51EeNIWI8"
      }
    }
  ]
}