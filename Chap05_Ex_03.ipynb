{
  "nbformat": 4,
  "nbformat_minor": 0,
  "metadata": {
    "colab": {
      "provenance": [],
      "authorship_tag": "ABX9TyPo1lFznwfiXWcn4kuayCSz",
      "include_colab_link": true
    },
    "kernelspec": {
      "name": "python3",
      "display_name": "Python 3"
    },
    "language_info": {
      "name": "python"
    }
  },
  "cells": [
    {
      "cell_type": "markdown",
      "metadata": {
        "id": "view-in-github",
        "colab_type": "text"
      },
      "source": [
        "<a href=\"https://colab.research.google.com/github/HinaNitano/EU_M_Math/blob/main/Chap05_Ex_03.ipynb\" target=\"_parent\"><img src=\"https://colab.research.google.com/assets/colab-badge.svg\" alt=\"Open In Colab\"/></a>"
      ]
    },
    {
      "cell_type": "code",
      "execution_count": null,
      "metadata": {
        "id": "NosP2R5YRPAc"
      },
      "outputs": [],
      "source": [
        "import numpy as np\n",
        "import numpy.random as random"
      ]
    },
    {
      "cell_type": "code",
      "source": [
        "x_array = np.array([1,2,3,4,5])\n",
        "y_array = np.array([6,7,8,9,10])\n",
        "\n",
        "cond_data = np.array([False, False, True, True, False])\n",
        "print(np.where(cond_data,x_array,y_array))"
      ],
      "metadata": {
        "colab": {
          "base_uri": "https://localhost:8080/"
        },
        "id": "MWcAag6GR8rW",
        "outputId": "205e2ce8-b0fc-462d-da71-f1a11af7515e"
      },
      "execution_count": null,
      "outputs": [
        {
          "output_type": "stream",
          "name": "stdout",
          "text": [
            "[ 6  7  3  4 10]\n"
          ]
        }
      ]
    }
  ]
}