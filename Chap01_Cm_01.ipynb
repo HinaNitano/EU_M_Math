{
  "nbformat": 4,
  "nbformat_minor": 0,
  "metadata": {
    "colab": {
      "provenance": [],
      "authorship_tag": "ABX9TyPgyOCiRKarmnVvT2QP/woM",
      "include_colab_link": true
    },
    "kernelspec": {
      "name": "python3",
      "display_name": "Python 3"
    },
    "language_info": {
      "name": "python"
    }
  },
  "cells": [
    {
      "cell_type": "markdown",
      "metadata": {
        "id": "view-in-github",
        "colab_type": "text"
      },
      "source": [
        "<a href=\"https://colab.research.google.com/github/HinaNitano/EU_M_Math/blob/main/Chap01_Cm_01.ipynb\" target=\"_parent\"><img src=\"https://colab.research.google.com/assets/colab-badge.svg\" alt=\"Open In Colab\"/></a>"
      ]
    },
    {
      "cell_type": "code",
      "execution_count": null,
      "metadata": {
        "colab": {
          "base_uri": "https://localhost:8080/"
        },
        "id": "g3mu3hXwGakW",
        "outputId": "19be3ad4-7a34-40c7-814c-abc5f986e749"
      },
      "outputs": [
        {
          "output_type": "stream",
          "name": "stdout",
          "text": [
            "10までの素数は: [2, 3, 5, 7]\n"
          ]
        }
      ],
      "source": [
        "def is_prime(num):\n",
        "# 引数で与えられた数が素数かどうかを判定する関数\n",
        "\n",
        "# numが素数であればTrue、そうでなければFalse\n",
        "  if num <= 1:\n",
        "    return False\n",
        "  for i in range(2, int(num**0.5) + 1):\n",
        "    if num % i == 0:\n",
        "      return False\n",
        "  return True\n",
        "\n",
        "primes = [i for i in range(2, 11) if is_prime(i)]\n",
        "print('10までの素数は:', primes)"
      ]
    }
  ]
}