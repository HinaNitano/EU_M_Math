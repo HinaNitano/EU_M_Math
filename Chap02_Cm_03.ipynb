{
  "nbformat": 4,
  "nbformat_minor": 0,
  "metadata": {
    "colab": {
      "provenance": [],
      "authorship_tag": "ABX9TyP5KCKzmq60ra1QsysZL4qo",
      "include_colab_link": true
    },
    "kernelspec": {
      "name": "python3",
      "display_name": "Python 3"
    },
    "language_info": {
      "name": "python"
    }
  },
  "cells": [
    {
      "cell_type": "markdown",
      "metadata": {
        "id": "view-in-github",
        "colab_type": "text"
      },
      "source": [
        "<a href=\"https://colab.research.google.com/github/HinaNitano/EU_M_Math/blob/main/Chap02_Cm_03.ipynb\" target=\"_parent\"><img src=\"https://colab.research.google.com/assets/colab-badge.svg\" alt=\"Open In Colab\"/></a>"
      ]
    },
    {
      "cell_type": "code",
      "source": [
        "import numpy as np\n",
        "import matplotlib as mpl\n",
        "import matplotlib.pyplot as plt\n",
        "import seaborn as sns\n",
        "import math\n",
        "\n",
        "# 乱数の発生\n",
        "x = np.random.uniform(0, 1, size=10000)\n",
        "y = np.random.uniform(0, 1, size=10000)\n",
        "\n",
        "# 円の内部にある点の個数をカウント\n",
        "count_circle = 0\n",
        "for i in range(len(x)):\n",
        "  distance = math.hypot(x[i], y[i])\n",
        "  if distance <= 1:\n",
        "    count_circle += 1\n",
        "\n",
        "# 正方形の内側にある点の個数をカウント\n",
        "count_square = 0\n",
        "for i in range(len(x)):\n",
        "  if abs(x[i]) <= 0.5 and abs(y[i]) <= 0.5:\n",
        "    count_square += 1\n",
        "\n",
        "# 円周率を計算\n",
        "pi_estimated = count_circle / count_square\n",
        "\n",
        "# 結果を出力\n",
        "print(f'シミュレーションによる円周率: {pi_estimated}')\n",
        "print(f'理論値の円周率:            {math.pi}')"
      ],
      "metadata": {
        "colab": {
          "base_uri": "https://localhost:8080/"
        },
        "id": "HESTS8QU23Z3",
        "outputId": "7b4605bc-4f6e-451e-d516-406670d4ba7a"
      },
      "execution_count": null,
      "outputs": [
        {
          "output_type": "stream",
          "name": "stdout",
          "text": [
            "シミュレーションによる円周率: 3.1348270440251573\n",
            "理論値の円周率:            3.141592653589793\n"
          ]
        }
      ]
    },
    {
      "cell_type": "code",
      "source": [],
      "metadata": {
        "id": "Bse3xbbr5W1-"
      },
      "execution_count": null,
      "outputs": []
    }
  ]
}