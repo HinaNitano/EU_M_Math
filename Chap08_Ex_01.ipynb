{
  "nbformat": 4,
  "nbformat_minor": 0,
  "metadata": {
    "colab": {
      "provenance": [],
      "authorship_tag": "ABX9TyNObRjdt5M0VYCwbybR1XRh",
      "include_colab_link": true
    },
    "kernelspec": {
      "name": "python3",
      "display_name": "Python 3"
    },
    "language_info": {
      "name": "python"
    }
  },
  "cells": [
    {
      "cell_type": "markdown",
      "metadata": {
        "id": "view-in-github",
        "colab_type": "text"
      },
      "source": [
        "<a href=\"https://colab.research.google.com/github/HinaNitano/EU_M_Math/blob/main/Chap08_Ex_01.ipynb\" target=\"_parent\"><img src=\"https://colab.research.google.com/assets/colab-badge.svg\" alt=\"Open In Colab\"/></a>"
      ]
    },
    {
      "cell_type": "code",
      "execution_count": null,
      "metadata": {
        "colab": {
          "base_uri": "https://localhost:8080/",
          "height": 36
        },
        "id": "OVqAvTDAHkJl",
        "outputId": "8a2bbf82-1749-49fa-ffd1-b1da9242cc17"
      },
      "outputs": [
        {
          "output_type": "execute_result",
          "data": {
            "text/plain": [
              "'%.3f'"
            ],
            "application/vnd.google.colaboratory.intrinsic+json": {
              "type": "string"
            }
          },
          "metadata": {},
          "execution_count": 1
        }
      ],
      "source": [
        "import numpy as np\n",
        "import numpy.random as random\n",
        "import pandas as pd\n",
        "from pandas import Series, DataFrame\n",
        "\n",
        "import sklearn\n",
        "\n",
        "%precision 3"
      ]
    },
    {
      "cell_type": "code",
      "source": [
        "import requests, zipfile\n",
        "import io\n",
        "\n",
        "url = 'https://archive.ics.uci.edu/static/public/10/automobile.zip'\n",
        "res = requests.get(url).content\n",
        "\n",
        "z = zipfile.ZipFile(io.BytesIO(res))\n",
        "z.extractall()"
      ],
      "metadata": {
        "id": "jajp3Z36HydW"
      },
      "execution_count": null,
      "outputs": []
    },
    {
      "cell_type": "code",
      "source": [
        "auto = pd.read_csv(('imports-85.data'), header=None)\n",
        "\n",
        "auto.columns = ['symboling', 'normalized-losses', 'make', 'fuel-type', 'aspiration', 'num-of-doors',\n",
        "                'body-style', 'drive-wheels', 'engine-location', 'wheel-base', 'length', 'width','height',\n",
        "                'curb-weight', 'engine-type', 'num-of-cylinders', 'engine-size', 'fuel-system', 'bore',\n",
        "                'stroke', 'compression-ratio', 'horsepower', 'peak-rpm', 'city-mpg','highway-mpg', 'price']"
      ],
      "metadata": {
        "id": "jGM-rzswH0Yu"
      },
      "execution_count": null,
      "outputs": []
    },
    {
      "cell_type": "code",
      "source": [
        "# ?をNaNに置換してNaNがある行を削除\n",
        "auto = auto.replace('?',np.nan).dropna()\n",
        "print('自動車のデータ形式：{}'.format(auto.shape))"
      ],
      "metadata": {
        "colab": {
          "base_uri": "https://localhost:8080/"
        },
        "id": "ZijOiIh1H7GH",
        "outputId": "d80f5c2e-1541-4d3a-aac5-cb528c709154"
      },
      "execution_count": null,
      "outputs": [
        {
          "output_type": "stream",
          "name": "stdout",
          "text": [
            "自動車のデータ形式：(159, 26)\n"
          ]
        }
      ]
    },
    {
      "cell_type": "code",
      "source": [
        "# データ分割(訓練データベースとテストデータ)のためのインポート\n",
        "from sklearn.model_selection import train_test_split\n",
        "\n",
        "# 重回帰のモデル構築のためのインポート\n",
        "from sklearn.linear_model import LinearRegression\n",
        "\n",
        "# 目的変数にpriceを指定、説明変数にそれ以外を指定\n",
        "X = auto[['width', 'engine-size']]\n",
        "y = auto['price']\n",
        "\n",
        "# 訓練データとテストデータに分ける\n",
        "X_train, X_test, y_train, y_test = train_test_split(X, y, test_size=0.5, random_state=0)\n",
        "\n",
        "# 重回帰クラスの初期化と学習\n",
        "model = LinearRegression()\n",
        "model.fit(X_train,y_train)\n",
        "\n",
        "# 決定係数を表示\n",
        "print('決定係数(train):{:.3f}'.format(model.score(X_train,y_train)))\n",
        "print('決定係数(test):{:.3f}'.format(model.score(X_test,y_test)))\n",
        "\n",
        "# 回帰係数と切片を表示\n",
        "print('\\n回帰係数\\n{}'.format(pd.Series(model.coef_, index=X.columns)))\n",
        "print('切片:{:.3f}'.format(model.intercept_))"
      ],
      "metadata": {
        "colab": {
          "base_uri": "https://localhost:8080/"
        },
        "id": "DNd14b8BH9K6",
        "outputId": "960a0530-9266-4a63-e748-1bc6c4b707ff"
      },
      "execution_count": null,
      "outputs": [
        {
          "output_type": "stream",
          "name": "stdout",
          "text": [
            "決定係数(train):0.807\n",
            "決定係数(test):0.788\n",
            "\n",
            "回帰係数\n",
            "width          1412.769779\n",
            "engine-size      91.408116\n",
            "dtype: float64\n",
            "切片:-92062.352\n"
          ]
        }
      ]
    }
  ]
}