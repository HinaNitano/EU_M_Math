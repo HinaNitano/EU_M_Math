{
  "nbformat": 4,
  "nbformat_minor": 0,
  "metadata": {
    "colab": {
      "provenance": [],
      "authorship_tag": "ABX9TyOBrOxUWOewNakPgtN7OnpY",
      "include_colab_link": true
    },
    "kernelspec": {
      "name": "python3",
      "display_name": "Python 3"
    },
    "language_info": {
      "name": "python"
    }
  },
  "cells": [
    {
      "cell_type": "markdown",
      "metadata": {
        "id": "view-in-github",
        "colab_type": "text"
      },
      "source": [
        "<a href=\"https://colab.research.google.com/github/HinaNitano/EU_M_Math/blob/main/Chap02_Cm_01.ipynb\" target=\"_parent\"><img src=\"https://colab.research.google.com/assets/colab-badge.svg\" alt=\"Open In Colab\"/></a>"
      ]
    },
    {
      "cell_type": "code",
      "execution_count": null,
      "metadata": {
        "colab": {
          "base_uri": "https://localhost:8080/"
        },
        "id": "CjpgPhuWk5T3",
        "outputId": "becaa22b-8931-459e-e440-7e6c6143ea94"
      },
      "outputs": [
        {
          "output_type": "stream",
          "name": "stdout",
          "text": [
            "乱数グループ1:\n",
            "[0.5488135  0.71518937 0.60276338 ... 0.75842952 0.02378743 0.81357508]\n",
            "乱数グループ2:\n",
            "[0.74826798 0.18020271 0.38902314 ... 0.44645576 0.36012661 0.62588665]\n"
          ]
        }
      ],
      "source": [
        "import numpy as np\n",
        "\n",
        "# シード値の固定\n",
        "np.random.seed(0)\n",
        "\n",
        "# 乱数の発生\n",
        "random_group1 = np.random.uniform(0, 1, 10000)\n",
        "random_group2 = np.random.uniform(0, 1, 10000)\n",
        "\n",
        "# 乱数の表示\n",
        "print('乱数グループ1:')\n",
        "print(random_group1)\n",
        "print('乱数グループ2:')\n",
        "print(random_group2)"
      ]
    },
    {
      "cell_type": "code",
      "source": [],
      "metadata": {
        "id": "OrLwH6X2l8BA"
      },
      "execution_count": null,
      "outputs": []
    }
  ]
}