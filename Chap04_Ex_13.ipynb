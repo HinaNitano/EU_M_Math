{
  "nbformat": 4,
  "nbformat_minor": 0,
  "metadata": {
    "colab": {
      "provenance": [],
      "authorship_tag": "ABX9TyNfRqtvTu3xsp4AdsftqXMX",
      "include_colab_link": true
    },
    "kernelspec": {
      "name": "python3",
      "display_name": "Python 3"
    },
    "language_info": {
      "name": "python"
    }
  },
  "cells": [
    {
      "cell_type": "markdown",
      "metadata": {
        "id": "view-in-github",
        "colab_type": "text"
      },
      "source": [
        "<a href=\"https://colab.research.google.com/github/HinaNitano/EU_M_Math/blob/main/Chap04_Ex_13.ipynb\" target=\"_parent\"><img src=\"https://colab.research.google.com/assets/colab-badge.svg\" alt=\"Open In Colab\"/></a>"
      ]
    },
    {
      "cell_type": "code",
      "execution_count": 9,
      "metadata": {
        "id": "gp4WyJIpBkXd"
      },
      "outputs": [],
      "source": [
        "import numpy as np\n",
        "import scipy as sp\n",
        "import pandas as pd\n",
        "\n",
        "import requests\n",
        "import zipfile\n",
        "from io import StringIO\n",
        "import io"
      ]
    },
    {
      "cell_type": "code",
      "source": [
        "zip_file_url = 'https://archive.ics.uci.edu/ml/machine-learning-databases/00356/student.zip'\n",
        "\n",
        "r = requests.get(zip_file_url, stream=True)\n",
        "z = zipfile.ZipFile(io.BytesIO(r.content))\n",
        "z.extractall()\n",
        "\n",
        "# 数学データを取り込む\n",
        "student_data_math = pd.read_csv('student-mat.csv', sep=';')\n",
        "\n",
        "# ポルトガルのデータを読み込む\n",
        "student_data_por = pd.read_csv('student-por.csv', sep=';')\n",
        "\n",
        "# マージする\n",
        "student_data_merge = pd.merge(student_data_math, student_data_por,\n",
        "                              on=['school', 'sex', 'age', 'address', 'famsize', 'Pstatus', 'Medu',\n",
        "                                  'Fedu', 'Mjob', 'Fjob', 'reason', 'nursery', 'internet'],\n",
        "                              suffixes=('_math','_por'))\n",
        "\n",
        "# G2の成績平均\n",
        "print('G2数学の成績平均:', student_data_merge.G2_math.mean())\n",
        "print('G2ポルトガル語の成績平均:', student_data_merge.G2_por.mean())"
      ],
      "metadata": {
        "colab": {
          "base_uri": "https://localhost:8080/"
        },
        "id": "lwaCJmiACaTT",
        "outputId": "963c2697-1262-4c44-bb83-fb43b0b30af2"
      },
      "execution_count": 14,
      "outputs": [
        {
          "output_type": "stream",
          "name": "stdout",
          "text": [
            "G2数学の成績平均: 10.712041884816754\n",
            "G2ポルトガル語の成績平均: 12.238219895287958\n"
          ]
        }
      ]
    },
    {
      "cell_type": "code",
      "source": [
        "# G2のp値\n",
        "from scipy import stats\n",
        "t, p_G2 = stats.ttest_rel(student_data_merge.G2_math, student_data_merge.G2_por)\n",
        "print('G2のp値 = ',p_G2)"
      ],
      "metadata": {
        "colab": {
          "base_uri": "https://localhost:8080/"
        },
        "id": "a1NQzJajDNwx",
        "outputId": "2d689709-f47e-4813-f522-4fe4573ebe42"
      },
      "execution_count": 11,
      "outputs": [
        {
          "output_type": "stream",
          "name": "stdout",
          "text": [
            "G2のp値 =  4.0622824801348625e-19\n"
          ]
        }
      ]
    },
    {
      "cell_type": "markdown",
      "source": [
        "G2の数学成績の平均とポルトガル語の成績の平均には差がある"
      ],
      "metadata": {
        "id": "iDbNGSh7H0fG"
      }
    },
    {
      "cell_type": "code",
      "source": [
        "print('G3数学の成績平均:', student_data_merge.G3_math.mean())\n",
        "print('G3ポルトガル語の成績平均:', student_data_merge.G3_por.mean())"
      ],
      "metadata": {
        "colab": {
          "base_uri": "https://localhost:8080/"
        },
        "id": "tD199pxpD3jU",
        "outputId": "9a64bcbd-bbef-4388-c2ef-062657d5ce9a"
      },
      "execution_count": 12,
      "outputs": [
        {
          "output_type": "stream",
          "name": "stdout",
          "text": [
            "G3数学の成績平均: 10.387434554973822\n",
            "G3ポルトガル語の成績平均: 12.515706806282722\n"
          ]
        }
      ]
    },
    {
      "cell_type": "code",
      "source": [
        "# G3のp値\n",
        "from scipy import stats\n",
        "t, p_G3 = stats.ttest_rel(student_data_merge.G3_math, student_data_merge.G3_por)\n",
        "print('G3のp値 = ',p_G3)"
      ],
      "metadata": {
        "colab": {
          "base_uri": "https://localhost:8080/"
        },
        "id": "9WxS-lMND-Fs",
        "outputId": "2a239e93-c256-42c8-8033-5fbc77a800f4"
      },
      "execution_count": 13,
      "outputs": [
        {
          "output_type": "stream",
          "name": "stdout",
          "text": [
            "G3のp値 =  5.561492113688385e-21\n"
          ]
        }
      ]
    },
    {
      "cell_type": "markdown",
      "source": [
        "G3の数学成績の平均とポルトガル語の成績の平均には差がある"
      ],
      "metadata": {
        "id": "IDUPsSnaH-ML"
      }
    }
  ]
}