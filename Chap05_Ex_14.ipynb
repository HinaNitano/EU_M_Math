{
  "nbformat": 4,
  "nbformat_minor": 0,
  "metadata": {
    "colab": {
      "provenance": [],
      "authorship_tag": "ABX9TyO7De6m1tKintyi7VMqkfe7",
      "include_colab_link": true
    },
    "kernelspec": {
      "name": "python3",
      "display_name": "Python 3"
    },
    "language_info": {
      "name": "python"
    }
  },
  "cells": [
    {
      "cell_type": "markdown",
      "metadata": {
        "id": "view-in-github",
        "colab_type": "text"
      },
      "source": [
        "<a href=\"https://colab.research.google.com/github/HinaNitano/EU_M_Math/blob/main/Chap05_Ex_14.ipynb\" target=\"_parent\"><img src=\"https://colab.research.google.com/assets/colab-badge.svg\" alt=\"Open In Colab\"/></a>"
      ]
    },
    {
      "cell_type": "code",
      "execution_count": null,
      "metadata": {
        "id": "hpgNZmv8bgUw"
      },
      "outputs": [],
      "source": [
        "import numpy as np\n",
        "import scipy as sp"
      ]
    },
    {
      "cell_type": "code",
      "source": [
        "A = A = np.identity(3)\n",
        "print(A)\n",
        "A[0,:]=1\n",
        "A[:,0]=1\n",
        "A[0,0]=3\n",
        "b = np.ones(3)\n",
        "print(A)\n",
        "print(b)"
      ],
      "metadata": {
        "colab": {
          "base_uri": "https://localhost:8080/"
        },
        "id": "k0GqvauIbuEh",
        "outputId": "f8fa509f-d299-4aeb-fccb-2b5e78a6926d"
      },
      "execution_count": null,
      "outputs": [
        {
          "output_type": "stream",
          "name": "stdout",
          "text": [
            "[[1. 0. 0.]\n",
            " [0. 1. 0.]\n",
            " [0. 0. 1.]]\n",
            "[[3. 1. 1.]\n",
            " [1. 1. 0.]\n",
            " [1. 0. 1.]]\n",
            "[1. 1. 1.]\n"
          ]
        }
      ]
    },
    {
      "cell_type": "code",
      "source": [
        "(LU,piv) = sp.linalg.lu_factor(A)\n",
        "\n",
        "L = np.identity(3) + np.tril(LU,-1)\n",
        "U = np.triu(LU)\n",
        "P = np.identity(3)[piv]\n",
        "\n",
        "x = sp.linalg.lu_solve((LU,piv),b)\n",
        "x"
      ],
      "metadata": {
        "colab": {
          "base_uri": "https://localhost:8080/"
        },
        "id": "eQrinQH4cIPC",
        "outputId": "15175cf1-fdec-4668-e69a-fd919f52d895"
      },
      "execution_count": null,
      "outputs": [
        {
          "output_type": "execute_result",
          "data": {
            "text/plain": [
              "array([-1.,  2.,  2.])"
            ]
          },
          "metadata": {},
          "execution_count": 5
        }
      ]
    }
  ]
}