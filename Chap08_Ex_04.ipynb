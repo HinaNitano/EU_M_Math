{
  "nbformat": 4,
  "nbformat_minor": 0,
  "metadata": {
    "colab": {
      "provenance": [],
      "authorship_tag": "ABX9TyNybS7iWPI39rEA2v1z6Iv9",
      "include_colab_link": true
    },
    "kernelspec": {
      "name": "python3",
      "display_name": "Python 3"
    },
    "language_info": {
      "name": "python"
    }
  },
  "cells": [
    {
      "cell_type": "markdown",
      "metadata": {
        "id": "view-in-github",
        "colab_type": "text"
      },
      "source": [
        "<a href=\"https://colab.research.google.com/github/HinaNitano/EU_M_Math/blob/main/Chap08_Ex_04.ipynb\" target=\"_parent\"><img src=\"https://colab.research.google.com/assets/colab-badge.svg\" alt=\"Open In Colab\"/></a>"
      ]
    },
    {
      "cell_type": "code",
      "execution_count": null,
      "metadata": {
        "colab": {
          "base_uri": "https://localhost:8080/",
          "height": 36
        },
        "id": "cz0eTVZdLvVE",
        "outputId": "5e7b4e12-88ee-4923-d2cf-9d9dd187a812"
      },
      "outputs": [
        {
          "output_type": "execute_result",
          "data": {
            "text/plain": [
              "'%.3f'"
            ],
            "application/vnd.google.colaboratory.intrinsic+json": {
              "type": "string"
            }
          },
          "metadata": {},
          "execution_count": 1
        }
      ],
      "source": [
        "import numpy as np\n",
        "import numpy.random as random\n",
        "import pandas as pd\n",
        "from pandas import Series, DataFrame\n",
        "\n",
        "import sklearn\n",
        "\n",
        "%precision 3"
      ]
    },
    {
      "cell_type": "code",
      "source": [
        "import requests, zipfile\n",
        "import io\n",
        "\n",
        "url = 'https://archive.ics.uci.edu/static/public/10/automobile.zip'\n",
        "res = requests.get(url).content\n",
        "\n",
        "z = zipfile.ZipFile(io.BytesIO(res))\n",
        "z.extractall()"
      ],
      "metadata": {
        "id": "7sTJ-J2bL3rz"
      },
      "execution_count": null,
      "outputs": []
    },
    {
      "cell_type": "code",
      "source": [
        "auto = pd.read_csv(('imports-85.data'), header=None)\n",
        "\n",
        "auto.columns = ['symboling', 'normalized-losses', 'make', 'fuel-type', 'aspiration', 'num-of-doors',\n",
        "                'body-style', 'drive-wheels', 'engine-location', 'wheel-base', 'length', 'width','height',\n",
        "                'curb-weight', 'engine-type', 'num-of-cylinders', 'engine-size', 'fuel-system', 'bore',\n",
        "                'stroke', 'compression-ratio', 'horsepower', 'peak-rpm', 'city-mpg','highway-mpg', 'price']"
      ],
      "metadata": {
        "id": "ALqb-5s8L5M7"
      },
      "execution_count": null,
      "outputs": []
    },
    {
      "cell_type": "code",
      "source": [
        "# ?をNaNに置換してNaNがある行を削除\n",
        "auto = auto.replace('?',np.nan).dropna()\n",
        "print('自動車のデータ形式：{}'.format(auto.shape))"
      ],
      "metadata": {
        "colab": {
          "base_uri": "https://localhost:8080/"
        },
        "id": "T0Lcd6I_L6yi",
        "outputId": "85a01a4e-d04f-43f2-868a-f2213f03e03f"
      },
      "execution_count": null,
      "outputs": [
        {
          "output_type": "stream",
          "name": "stdout",
          "text": [
            "自動車のデータ形式：(159, 26)\n"
          ]
        }
      ]
    },
    {
      "cell_type": "code",
      "source": [
        "# ラッソ回帰用のクラス\n",
        "from sklearn.linear_model import Lasso\n",
        "from sklearn.model_selection import train_test_split\n",
        "\n",
        "# 重回帰のモデル構築のためのインポート\n",
        "from sklearn.linear_model import LinearRegression\n",
        "\n",
        "# 訓練データとテストデータに分類\n",
        "X = auto.drop('price', axis=1)\n",
        "y = auto['price']\n",
        "\n",
        "# Convert string columns to numerical using one-hot encoding\n",
        "X = pd.get_dummies(X) # Add this line to handle categorical features\n",
        "\n",
        "X_train, X_test, y_train, y_test = train_test_split(X, y, test_size=0.5, random_state=0)\n",
        "\n",
        "# モデルの構築と評価\n",
        "linear = LinearRegression()\n",
        "lasso = Lasso(random_state=0)\n",
        "\n",
        "for model in[linear, lasso]:\n",
        "    model.fit(X_train,y_train)\n",
        "    print('{}(train):{:.6f}'.format(model.__class__.__name__, model.score(X_train,y_train)))\n",
        "    print('{}(test):{:.6f}'.format(model.__class__.__name__, model.score(X_test,y_test)))"
      ],
      "metadata": {
        "colab": {
          "base_uri": "https://localhost:8080/"
        },
        "id": "amQz55RYL9S-",
        "outputId": "0ea903d1-50e6-4490-ac7e-317064502111"
      },
      "execution_count": null,
      "outputs": [
        {
          "output_type": "stream",
          "name": "stdout",
          "text": [
            "LinearRegression(train):0.994094\n",
            "LinearRegression(test):-21064.847328\n",
            "Lasso(train):0.989901\n",
            "Lasso(test):0.747935\n"
          ]
        },
        {
          "output_type": "stream",
          "name": "stderr",
          "text": [
            "/usr/local/lib/python3.10/dist-packages/sklearn/linear_model/_coordinate_descent.py:631: ConvergenceWarning: Objective did not converge. You might want to increase the number of iterations, check the scale of the features or consider increasing regularisation. Duality gap: 2.000e+07, tolerance: 2.680e+05\n",
            "  model = cd_fast.enet_coordinate_descent(\n"
          ]
        }
      ]
    }
  ]
}