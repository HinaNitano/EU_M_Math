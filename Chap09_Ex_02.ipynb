{
  "nbformat": 4,
  "nbformat_minor": 0,
  "metadata": {
    "colab": {
      "provenance": [],
      "authorship_tag": "ABX9TyMmJK8d8XDN15zXBd/1pXFN",
      "include_colab_link": true
    },
    "kernelspec": {
      "name": "python3",
      "display_name": "Python 3"
    },
    "language_info": {
      "name": "python"
    }
  },
  "cells": [
    {
      "cell_type": "markdown",
      "metadata": {
        "id": "view-in-github",
        "colab_type": "text"
      },
      "source": [
        "<a href=\"https://colab.research.google.com/github/HinaNitano/EU_M_Math/blob/main/Chap09_Ex_02.ipynb\" target=\"_parent\"><img src=\"https://colab.research.google.com/assets/colab-badge.svg\" alt=\"Open In Colab\"/></a>"
      ]
    },
    {
      "cell_type": "code",
      "execution_count": 1,
      "metadata": {
        "colab": {
          "base_uri": "https://localhost:8080/",
          "height": 36
        },
        "id": "7tYbP6wUvI1E",
        "outputId": "eca5efd6-3d4b-464c-c7ad-09d8f59c4b03"
      },
      "outputs": [
        {
          "output_type": "execute_result",
          "data": {
            "text/plain": [
              "'%.3f'"
            ],
            "application/vnd.google.colaboratory.intrinsic+json": {
              "type": "string"
            }
          },
          "metadata": {},
          "execution_count": 1
        }
      ],
      "source": [
        "import numpy as np\n",
        "import numpy.random as random\n",
        "import scipy as sp\n",
        "from pandas import Series, DataFrame\n",
        "import pandas as pd\n",
        "\n",
        "import matplotlib.pyplot as plt\n",
        "import seaborn as sns\n",
        "%matplotlib inline\n",
        "\n",
        "import sklearn\n",
        "\n",
        "%precision 3"
      ]
    },
    {
      "cell_type": "code",
      "source": [
        "import requests, zipfile\n",
        "import io\n",
        "\n",
        "url = 'https://archive.ics.uci.edu/static/public/53/iris.zip'\n",
        "\n",
        "res = requests.get(url).content\n",
        "\n",
        "z = zipfile.ZipFile(io.BytesIO(res))\n",
        "z.extractall()"
      ],
      "metadata": {
        "id": "crNtapjtvjwq"
      },
      "execution_count": 11,
      "outputs": []
    },
    {
      "cell_type": "code",
      "source": [
        "ls"
      ],
      "metadata": {
        "colab": {
          "base_uri": "https://localhost:8080/"
        },
        "id": "EVwTsXYmwf-9",
        "outputId": "92a6db70-a8ea-4016-a75e-f69888789f1d"
      },
      "execution_count": 12,
      "outputs": [
        {
          "output_type": "stream",
          "name": "stdout",
          "text": [
            "bank-additional.zip  bank.zip  bezdekIris.data  Index  iris.data  iris.names  \u001b[0m\u001b[01;34msample_data\u001b[0m/\n"
          ]
        }
      ]
    },
    {
      "cell_type": "code",
      "source": [
        "import requests, zipfile\n",
        "import io\n",
        "\n",
        "url = 'https://archive.ics.uci.edu/static/public/53/iris.zip'\n",
        "\n",
        "res = requests.get(url).content\n",
        "\n",
        "z = zipfile.ZipFile(io.BytesIO(res))\n",
        "z.extractall()\n",
        "\n",
        "Iris = pd.read_csv('bezdekIris.data', header=None) # The dataset does not have a header row\n",
        "Iris.columns = ['sepal_length', 'sepal_width', 'petal_length', 'petal_width', 'species'] # Name the columns\n",
        "\n",
        "# Separate features and target variable\n",
        "X = Iris.drop('species', axis=1)\n",
        "y = Iris['species']\n",
        "\n",
        "from sklearn.preprocessing import StandardScaler\n",
        "from sklearn.decomposition import PCA\n",
        "\n",
        "# 標準化\n",
        "sc = StandardScaler()\n",
        "X_std = sc.fit_transform(X) # Scale only the features\n",
        "\n",
        "# 主成分分析\n",
        "pca = PCA(n_components=2)\n",
        "pca.fit(X_std)\n",
        "X_pca = pca.transform(X_std)\n",
        "\n",
        "print('X_pca shape:{}'.format(X_pca.shape))\n",
        "print('Explained variance ratio:{}'.format(pca.explained_variance_ratio_))"
      ],
      "metadata": {
        "colab": {
          "base_uri": "https://localhost:8080/"
        },
        "id": "DVe6sN1yv8fo",
        "outputId": "6f4cc684-fd47-47ba-bcf7-f7579c3123e4"
      },
      "execution_count": 17,
      "outputs": [
        {
          "output_type": "stream",
          "name": "stdout",
          "text": [
            "X_pca shape:(150, 2)\n",
            "Explained variance ratio:[0.73  0.229]\n"
          ]
        }
      ]
    },
    {
      "cell_type": "code",
      "source": [
        "X_pca = pd.DataFrame(X_pca, columns=['pc1', 'pc2'])\n",
        "\n",
        "X_pca = pd.concat([X_pca, pd.DataFrame(y, columns=['target'])], axis=1)\n",
        "\n",
        "pca1 = X_pca[X_pca['target']==0]\n",
        "pca2 = X_pca[X_pca['target']==1]"
      ],
      "metadata": {
        "id": "00o7oEyBxTme"
      },
      "execution_count": 20,
      "outputs": []
    },
    {
      "cell_type": "code",
      "source": [
        "ax = pca1.plot.scatter(x='pc1', y='pc2', color='red', label='malignant');\n",
        "\n",
        "pca2.plot.scatter(x='pc1', y='pc2', color='blue', label='belign', ax=ax);"
      ],
      "metadata": {
        "colab": {
          "base_uri": "https://localhost:8080/",
          "height": 449
        },
        "id": "CjCLdhX4yKPe",
        "outputId": "d3b91450-9372-4537-c3e5-3da2040b988e"
      },
      "execution_count": 21,
      "outputs": [
        {
          "output_type": "display_data",
          "data": {
            "text/plain": [
              "<Figure size 640x480 with 1 Axes>"
            ],
            "image/png": "[encoded data removed]"
          },
          "metadata": {}
        }
      ]
    }
  ]
}