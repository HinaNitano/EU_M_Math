{
  "nbformat": 4,
  "nbformat_minor": 0,
  "metadata": {
    "colab": {
      "provenance": [],
      "authorship_tag": "ABX9TyM61uRQ0vYQmmIjVzyA6JJK",
      "include_colab_link": true
    },
    "kernelspec": {
      "name": "python3",
      "display_name": "Python 3"
    },
    "language_info": {
      "name": "python"
    }
  },
  "cells": [
    {
      "cell_type": "markdown",
      "metadata": {
        "id": "view-in-github",
        "colab_type": "text"
      },
      "source": [
        "<a href=\"https://colab.research.google.com/github/HinaNitano/EU_M_Math/blob/main/Chap08_Hw_04_Ridge_Lasso.ipynb\" target=\"_parent\"><img src=\"https://colab.research.google.com/assets/colab-badge.svg\" alt=\"Open In Colab\"/></a>"
      ]
    },
    {
      "cell_type": "code",
      "execution_count": null,
      "metadata": {
        "id": "ZmwImLhm6rDd"
      },
      "outputs": [],
      "source": []
    },
    {
      "cell_type": "markdown",
      "source": [
        "リッジ回帰とラッソ回帰における正則化項式の主な利点は、過学習の抑制である。\n",
        "過学習とは、モデルが訓練データに過度に適合し、未知のデータに対してうまく予測できない状態を指す。正則化項を導入することで、モデルのパラメータが大きくなりすぎることを抑制し、過学習を防ぐことができる。"
      ],
      "metadata": {
        "id": "PPULpSbI6sok"
      }
    }
  ]
}